{
 "cells": [
  {
   "cell_type": "code",
   "execution_count": 22,
   "id": "80691a22",
   "metadata": {},
   "outputs": [
    {
     "ename": "SyntaxError",
     "evalue": "invalid syntax (2106756838.py, line 2)",
     "output_type": "error",
     "traceback": [
      "\u001b[1;36m  Cell \u001b[1;32mIn[22], line 2\u001b[1;36m\u001b[0m\n\u001b[1;33m    pip install pymc\u001b[0m\n\u001b[1;37m        ^\u001b[0m\n\u001b[1;31mSyntaxError\u001b[0m\u001b[1;31m:\u001b[0m invalid syntax\n"
     ]
    }
   ],
   "source": [
    "#conda install m2w64-toolchain\n",
    "pip install pymc"
   ]
  },
  {
   "cell_type": "code",
   "execution_count": 23,
   "id": "6a16b405",
   "metadata": {},
   "outputs": [],
   "source": [
    "import numpy as np\n",
    "import pymc as pm"
   ]
  },
  {
   "cell_type": "code",
   "execution_count": 38,
   "id": "9ea4472a",
   "metadata": {},
   "outputs": [],
   "source": [
    "gamma_data = np.random.gamma(2, 0.5, size=2000)\n",
    "with pymc.Model() as gamma_model:\n",
    "    alpha = pymc.Exponential('alpha', 0.1)\n",
    "    beta = pymc.Exponential('beta', 0.1)\n",
    "    y = pymc.Gamma('y', alpha, beta, observed = gamma_data)"
   ]
  },
  {
   "cell_type": "code",
   "execution_count": 15,
   "id": "46363840",
   "metadata": {},
   "outputs": [
    {
     "data": {
      "text/html": [
       "\n",
       "<style>\n",
       "    /* Turns off some styling */\n",
       "    progress {\n",
       "        /* gets rid of default border in Firefox and Opera. */\n",
       "        border: none;\n",
       "        /* Needs to be in here for Safari polyfill so background images work as expected. */\n",
       "        background-size: auto;\n",
       "    }\n",
       "    progress:not([value]), progress:not([value])::-webkit-progress-bar {\n",
       "        background: repeating-linear-gradient(45deg, #7e7e7e, #7e7e7e 10px, #5c5c5c 10px, #5c5c5c 20px);\n",
       "    }\n",
       "    .progress-bar-interrupted, .progress-bar-interrupted::-webkit-progress-bar {\n",
       "        background: #F44336;\n",
       "    }\n",
       "</style>\n"
      ],
      "text/plain": [
       "<IPython.core.display.HTML object>"
      ]
     },
     "metadata": {},
     "output_type": "display_data"
    },
    {
     "data": {
      "text/html": [
       "\n",
       "    <div>\n",
       "      <progress value='10000' class='' max='10000' style='width:300px; height:20px; vertical-align: middle;'></progress>\n",
       "      100.00% [10000/10000 08:26&lt;00:00 Average Loss = 4,588.1]\n",
       "    </div>\n",
       "    "
      ],
      "text/plain": [
       "<IPython.core.display.HTML object>"
      ]
     },
     "metadata": {},
     "output_type": "display_data"
    },
    {
     "name": "stderr",
     "output_type": "stream",
     "text": [
      "Finished [100%]: Average Loss = 4,550.7\n"
     ]
    }
   ],
   "source": [
    "with gamma_model:\n",
    "    #mean_field = pymc.fit(method='ADVI')\n",
    "    full_rank = pymc.fit(method='FullRank_ADVI')"
   ]
  },
  {
   "cell_type": "code",
   "execution_count": 39,
   "id": "334d48b8",
   "metadata": {},
   "outputs": [
    {
     "name": "stderr",
     "output_type": "stream",
     "text": [
      "C:\\ProgramData\\Anaconda3\\lib\\site-packages\\pymc\\distributions\\discrete.py:1135: UserWarning: `p` parameters sum to [2.], instead of 1.0. They will be automatically rescaled. You can rescale them directly to get rid of this warning.\n",
      "  warnings.warn(\n"
     ]
    }
   ],
   "source": [
    "n = 900\n",
    "network_data = np.random.binomial(1, 0.5, size=n)\n",
    "network_data\n",
    "eta = np.zeros(n)\n",
    "with pymc.Model() as network_model:\n",
    "    #betas = [pymc.Normal('beta_1', 0, 10), pymc.Normal('beta_2', 0, 10)]\n",
    "    Z = pymc.Categorical('Z', np.ones(2))\n",
    "    Z_i = pymc.Deterministic('Z_i', Z)\n",
    "    prior_means = pymc.Normal('beta', 0, 10, shape = 2)\n",
    "    eta = pymc.Deterministic('eta', prior_means[Z_i])\n",
    "#    eta = [betas[Z[i]] for i in Z]\n",
    "    ## Likelihood\n",
    "    A_ij = pymc.Bernoulli('A', pymc.math.invlogit(eta), observed = network_data)\n"
   ]
  },
  {
   "cell_type": "code",
   "execution_count": 43,
   "id": "29c05d62",
   "metadata": {},
   "outputs": [
    {
     "ename": "ParametrizationError",
     "evalue": "Discrete variables are not supported by VI: Z",
     "output_type": "error",
     "traceback": [
      "\u001b[1;31m---------------------------------------------------------------------------\u001b[0m",
      "\u001b[1;31mParametrizationError\u001b[0m                      Traceback (most recent call last)",
      "Cell \u001b[1;32mIn[43], line 2\u001b[0m\n\u001b[0;32m      1\u001b[0m \u001b[38;5;28;01mwith\u001b[39;00m network_model:\n\u001b[1;32m----> 2\u001b[0m     full_rank \u001b[38;5;241m=\u001b[39m \u001b[43mpymc\u001b[49m\u001b[38;5;241;43m.\u001b[39;49m\u001b[43mfit\u001b[49m\u001b[43m(\u001b[49m\u001b[43mmethod\u001b[49m\u001b[38;5;241;43m=\u001b[39;49m\u001b[38;5;124;43m'\u001b[39;49m\u001b[38;5;124;43mfullrank_advi\u001b[39;49m\u001b[38;5;124;43m'\u001b[39;49m\u001b[43m)\u001b[49m\n",
      "File \u001b[1;32mC:\\ProgramData\\Anaconda3\\lib\\site-packages\\pymc\\variational\\inference.py:734\u001b[0m, in \u001b[0;36mfit\u001b[1;34m(n, method, model, random_seed, start, start_sigma, inf_kwargs, **kwargs)\u001b[0m\n\u001b[0;32m    732\u001b[0m method \u001b[38;5;241m=\u001b[39m method\u001b[38;5;241m.\u001b[39mlower()\n\u001b[0;32m    733\u001b[0m \u001b[38;5;28;01mif\u001b[39;00m method \u001b[38;5;129;01min\u001b[39;00m _select:\n\u001b[1;32m--> 734\u001b[0m     inference \u001b[38;5;241m=\u001b[39m _select[method](model\u001b[38;5;241m=\u001b[39mmodel, \u001b[38;5;241m*\u001b[39m\u001b[38;5;241m*\u001b[39minf_kwargs)\n\u001b[0;32m    735\u001b[0m \u001b[38;5;28;01melse\u001b[39;00m:\n\u001b[0;32m    736\u001b[0m     \u001b[38;5;28;01mraise\u001b[39;00m \u001b[38;5;167;01mKeyError\u001b[39;00m(\u001b[38;5;124mf\u001b[39m\u001b[38;5;124m\"\u001b[39m\u001b[38;5;124mmethod should be one of \u001b[39m\u001b[38;5;132;01m{\u001b[39;00m\u001b[38;5;28mset\u001b[39m(_select\u001b[38;5;241m.\u001b[39mkeys())\u001b[38;5;132;01m}\u001b[39;00m\u001b[38;5;124m or Inference instance\u001b[39m\u001b[38;5;124m\"\u001b[39m)\n",
      "File \u001b[1;32mC:\\ProgramData\\Anaconda3\\lib\\site-packages\\pymc\\variational\\inference.py:479\u001b[0m, in \u001b[0;36mFullRankADVI.__init__\u001b[1;34m(self, *args, **kwargs)\u001b[0m\n\u001b[0;32m    478\u001b[0m \u001b[38;5;28;01mdef\u001b[39;00m \u001b[38;5;21m__init__\u001b[39m(\u001b[38;5;28mself\u001b[39m, \u001b[38;5;241m*\u001b[39margs, \u001b[38;5;241m*\u001b[39m\u001b[38;5;241m*\u001b[39mkwargs):\n\u001b[1;32m--> 479\u001b[0m     \u001b[38;5;28msuper\u001b[39m()\u001b[38;5;241m.\u001b[39m\u001b[38;5;21m__init__\u001b[39m(FullRank(\u001b[38;5;241m*\u001b[39margs, \u001b[38;5;241m*\u001b[39m\u001b[38;5;241m*\u001b[39mkwargs))\n",
      "File \u001b[1;32mC:\\ProgramData\\Anaconda3\\lib\\site-packages\\pymc\\variational\\approximations.py:340\u001b[0m, in \u001b[0;36mSingleGroupApproximation.__init__\u001b[1;34m(self, *args, **kwargs)\u001b[0m\n\u001b[0;32m    338\u001b[0m \u001b[38;5;28;01mdef\u001b[39;00m \u001b[38;5;21m__init__\u001b[39m(\u001b[38;5;28mself\u001b[39m, \u001b[38;5;241m*\u001b[39margs, \u001b[38;5;241m*\u001b[39m\u001b[38;5;241m*\u001b[39mkwargs):\n\u001b[0;32m    339\u001b[0m     groups \u001b[38;5;241m=\u001b[39m [\u001b[38;5;28mself\u001b[39m\u001b[38;5;241m.\u001b[39m_group_class(\u001b[38;5;28;01mNone\u001b[39;00m, \u001b[38;5;241m*\u001b[39margs, \u001b[38;5;241m*\u001b[39m\u001b[38;5;241m*\u001b[39mkwargs)]\n\u001b[1;32m--> 340\u001b[0m     \u001b[38;5;28;43msuper\u001b[39;49m\u001b[43m(\u001b[49m\u001b[43m)\u001b[49m\u001b[38;5;241;43m.\u001b[39;49m\u001b[38;5;21;43m__init__\u001b[39;49m\u001b[43m(\u001b[49m\u001b[43mgroups\u001b[49m\u001b[43m,\u001b[49m\u001b[43m \u001b[49m\u001b[43mmodel\u001b[49m\u001b[38;5;241;43m=\u001b[39;49m\u001b[43mkwargs\u001b[49m\u001b[38;5;241;43m.\u001b[39;49m\u001b[43mget\u001b[49m\u001b[43m(\u001b[49m\u001b[38;5;124;43m\"\u001b[39;49m\u001b[38;5;124;43mmodel\u001b[39;49m\u001b[38;5;124;43m\"\u001b[39;49m\u001b[43m)\u001b[49m\u001b[43m)\u001b[49m\n",
      "File \u001b[1;32mC:\\ProgramData\\Anaconda3\\lib\\site-packages\\pymc\\variational\\opvi.py:1229\u001b[0m, in \u001b[0;36mApproximation.__init__\u001b[1;34m(self, groups, model)\u001b[0m\n\u001b[0;32m   1227\u001b[0m         \u001b[38;5;28;01mraise\u001b[39;00m GroupError(\u001b[38;5;124m\"\u001b[39m\u001b[38;5;124mNo approximation is specified for the rest variables\u001b[39m\u001b[38;5;124m\"\u001b[39m)\n\u001b[0;32m   1228\u001b[0m     \u001b[38;5;28;01melse\u001b[39;00m:\n\u001b[1;32m-> 1229\u001b[0m         \u001b[43mrest\u001b[49m\u001b[38;5;241;43m.\u001b[39;49m\u001b[43m__init_group__\u001b[49m\u001b[43m(\u001b[49m\u001b[43munseen_free_RVs\u001b[49m\u001b[43m)\u001b[49m\n\u001b[0;32m   1230\u001b[0m         \u001b[38;5;28mself\u001b[39m\u001b[38;5;241m.\u001b[39mgroups\u001b[38;5;241m.\u001b[39mappend(rest)\n\u001b[0;32m   1231\u001b[0m \u001b[38;5;28mself\u001b[39m\u001b[38;5;241m.\u001b[39mmodel \u001b[38;5;241m=\u001b[39m model\n",
      "File \u001b[1;32mC:\\ProgramData\\Anaconda3\\lib\\site-packages\\pytensor\\configparser.py:48\u001b[0m, in \u001b[0;36m_ChangeFlagsDecorator.__call__.<locals>.res\u001b[1;34m(*args, **kwargs)\u001b[0m\n\u001b[0;32m     45\u001b[0m \u001b[38;5;129m@wraps\u001b[39m(f)\n\u001b[0;32m     46\u001b[0m \u001b[38;5;28;01mdef\u001b[39;00m \u001b[38;5;21mres\u001b[39m(\u001b[38;5;241m*\u001b[39margs, \u001b[38;5;241m*\u001b[39m\u001b[38;5;241m*\u001b[39mkwargs):\n\u001b[0;32m     47\u001b[0m     \u001b[38;5;28;01mwith\u001b[39;00m \u001b[38;5;28mself\u001b[39m:\n\u001b[1;32m---> 48\u001b[0m         \u001b[38;5;28;01mreturn\u001b[39;00m f(\u001b[38;5;241m*\u001b[39margs, \u001b[38;5;241m*\u001b[39m\u001b[38;5;241m*\u001b[39mkwargs)\n",
      "File \u001b[1;32mC:\\ProgramData\\Anaconda3\\lib\\site-packages\\pymc\\variational\\approximations.py:132\u001b[0m, in \u001b[0;36mFullRankGroup.__init_group__\u001b[1;34m(self, group)\u001b[0m\n\u001b[0;32m    130\u001b[0m \u001b[38;5;129m@pytensor\u001b[39m\u001b[38;5;241m.\u001b[39mconfig\u001b[38;5;241m.\u001b[39mchange_flags(compute_test_value\u001b[38;5;241m=\u001b[39m\u001b[38;5;124m\"\u001b[39m\u001b[38;5;124moff\u001b[39m\u001b[38;5;124m\"\u001b[39m)\n\u001b[0;32m    131\u001b[0m \u001b[38;5;28;01mdef\u001b[39;00m \u001b[38;5;21m__init_group__\u001b[39m(\u001b[38;5;28mself\u001b[39m, group):\n\u001b[1;32m--> 132\u001b[0m     \u001b[38;5;28;43msuper\u001b[39;49m\u001b[43m(\u001b[49m\u001b[43m)\u001b[49m\u001b[38;5;241;43m.\u001b[39;49m\u001b[43m__init_group__\u001b[49m\u001b[43m(\u001b[49m\u001b[43mgroup\u001b[49m\u001b[43m)\u001b[49m\n\u001b[0;32m    133\u001b[0m     \u001b[38;5;28;01mif\u001b[39;00m \u001b[38;5;129;01mnot\u001b[39;00m \u001b[38;5;28mself\u001b[39m\u001b[38;5;241m.\u001b[39m_check_user_params():\n\u001b[0;32m    134\u001b[0m         \u001b[38;5;28mself\u001b[39m\u001b[38;5;241m.\u001b[39mshared_params \u001b[38;5;241m=\u001b[39m \u001b[38;5;28mself\u001b[39m\u001b[38;5;241m.\u001b[39mcreate_shared_params(\u001b[38;5;28mself\u001b[39m\u001b[38;5;241m.\u001b[39m_kwargs\u001b[38;5;241m.\u001b[39mget(\u001b[38;5;124m\"\u001b[39m\u001b[38;5;124mstart\u001b[39m\u001b[38;5;124m\"\u001b[39m, \u001b[38;5;28;01mNone\u001b[39;00m))\n",
      "File \u001b[1;32mC:\\ProgramData\\Anaconda3\\lib\\site-packages\\pytensor\\configparser.py:48\u001b[0m, in \u001b[0;36m_ChangeFlagsDecorator.__call__.<locals>.res\u001b[1;34m(*args, **kwargs)\u001b[0m\n\u001b[0;32m     45\u001b[0m \u001b[38;5;129m@wraps\u001b[39m(f)\n\u001b[0;32m     46\u001b[0m \u001b[38;5;28;01mdef\u001b[39;00m \u001b[38;5;21mres\u001b[39m(\u001b[38;5;241m*\u001b[39margs, \u001b[38;5;241m*\u001b[39m\u001b[38;5;241m*\u001b[39mkwargs):\n\u001b[0;32m     47\u001b[0m     \u001b[38;5;28;01mwith\u001b[39;00m \u001b[38;5;28mself\u001b[39m:\n\u001b[1;32m---> 48\u001b[0m         \u001b[38;5;28;01mreturn\u001b[39;00m f(\u001b[38;5;241m*\u001b[39margs, \u001b[38;5;241m*\u001b[39m\u001b[38;5;241m*\u001b[39mkwargs)\n",
      "File \u001b[1;32mC:\\ProgramData\\Anaconda3\\lib\\site-packages\\pymc\\variational\\opvi.py:859\u001b[0m, in \u001b[0;36mGroup.__init_group__\u001b[1;34m(self, group)\u001b[0m\n\u001b[0;32m    857\u001b[0m \u001b[38;5;28;01mfor\u001b[39;00m var \u001b[38;5;129;01min\u001b[39;00m \u001b[38;5;28mself\u001b[39m\u001b[38;5;241m.\u001b[39mgroup:\n\u001b[0;32m    858\u001b[0m     \u001b[38;5;28;01mif\u001b[39;00m var\u001b[38;5;241m.\u001b[39mtype\u001b[38;5;241m.\u001b[39mnumpy_dtype\u001b[38;5;241m.\u001b[39mname \u001b[38;5;129;01min\u001b[39;00m discrete_types:\n\u001b[1;32m--> 859\u001b[0m         \u001b[38;5;28;01mraise\u001b[39;00m ParametrizationError(\u001b[38;5;124mf\u001b[39m\u001b[38;5;124m\"\u001b[39m\u001b[38;5;124mDiscrete variables are not supported by VI: \u001b[39m\u001b[38;5;132;01m{\u001b[39;00mvar\u001b[38;5;132;01m}\u001b[39;00m\u001b[38;5;124m\"\u001b[39m)\n\u001b[0;32m    860\u001b[0m     \u001b[38;5;66;03m# 3) This is the way to infer shape and dtype of the variable\u001b[39;00m\n\u001b[0;32m    861\u001b[0m     value_var \u001b[38;5;241m=\u001b[39m \u001b[38;5;28mself\u001b[39m\u001b[38;5;241m.\u001b[39mmodel\u001b[38;5;241m.\u001b[39mrvs_to_values[var]\n",
      "\u001b[1;31mParametrizationError\u001b[0m: Discrete variables are not supported by VI: Z"
     ]
    }
   ],
   "source": [
    "with network_model:\n",
    "    full_rank = pymc.fit(method='fullrank_advi')"
   ]
  }
 ],
 "metadata": {
  "kernelspec": {
   "display_name": "Python 3 (ipykernel)",
   "language": "python",
   "name": "python3"
  },
  "language_info": {
   "codemirror_mode": {
    "name": "ipython",
    "version": 3
   },
   "file_extension": ".py",
   "mimetype": "text/x-python",
   "name": "python",
   "nbconvert_exporter": "python",
   "pygments_lexer": "ipython3",
   "version": "3.9.15"
  }
 },
 "nbformat": 4,
 "nbformat_minor": 5
}
